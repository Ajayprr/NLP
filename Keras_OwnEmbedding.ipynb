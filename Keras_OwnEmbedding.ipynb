{
  "nbformat": 4,
  "nbformat_minor": 0,
  "metadata": {
    "colab": {
      "name": "Keras-OwnEmbedding.ipynb",
      "provenance": [],
      "collapsed_sections": []
    },
    "kernelspec": {
      "name": "python3",
      "display_name": "Python 3"
    }
  },
  "cells": [
    {
      "cell_type": "markdown",
      "metadata": {
        "id": "vtDkfRxFBtJS",
        "colab_type": "text"
      },
      "source": [
        "### Import the necessary libraries"
      ]
    },
    {
      "cell_type": "code",
      "metadata": {
        "id": "I6sgvWRvB0IP",
        "colab_type": "code",
        "colab": {}
      },
      "source": [
        "from numpy import array\n",
        "# import one-hot-encoding from keras \n",
        "# import padding helper function from keras\n",
        "# import sequential \n",
        "# import Dense from keras \n",
        "# import flatten helper from keras\n",
        "# import embedding helper from keras"
      ],
      "execution_count": 0,
      "outputs": []
    },
    {
      "cell_type": "markdown",
      "metadata": {
        "id": "FJLFlrVWB4c8",
        "colab_type": "text"
      },
      "source": [
        "### Define the corpus"
      ]
    },
    {
      "cell_type": "code",
      "metadata": {
        "id": "eWlkStItB_jc",
        "colab_type": "code",
        "colab": {}
      },
      "source": [
        "docs = ['Well done!',\n",
        "\t\t'Good work',\n",
        "\t\t'Great effort',\n",
        "\t\t'nice work',\n",
        "\t\t'Excellent!',\n",
        "\t\t'Weak',\n",
        "\t\t'Poor effort!',\n",
        "\t\t'not good',\n",
        "\t\t'poor work',\n",
        "\t\t'Could have done better.']\n",
        "# Add more data if you want to experiment"
      ],
      "execution_count": 0,
      "outputs": []
    },
    {
      "cell_type": "markdown",
      "metadata": {
        "id": "w4pge57YCBxH",
        "colab_type": "text"
      },
      "source": [
        "### Define the labels"
      ]
    },
    {
      "cell_type": "code",
      "metadata": {
        "id": "0h1CPBUGCPqg",
        "colab_type": "code",
        "colab": {}
      },
      "source": [
        "labels = array([1,1,1,1,1,0,0,0,0,0])\n",
        "# Adjust this accordingly to the documents in the corpus"
      ],
      "execution_count": 0,
      "outputs": []
    },
    {
      "cell_type": "markdown",
      "metadata": {
        "id": "lupemgx-CU4A",
        "colab_type": "text"
      },
      "source": [
        "### One-hot encoding of corpus"
      ]
    },
    {
      "cell_type": "code",
      "metadata": {
        "id": "-2Dgp1GFCdtB",
        "colab_type": "code",
        "outputId": "4ac3293e-58a9-4469-80ed-c8b9cc524163",
        "colab": {
          "base_uri": "https://localhost:8080/",
          "height": 34
        }
      },
      "source": [
        "vocab_size = 50\n",
        "encoded_docs = None # Hint: Use one-hot-encoding function\n",
        "print(encoded_docs)"
      ],
      "execution_count": 0,
      "outputs": [
        {
          "output_type": "stream",
          "text": [
            "[[27, 2], [26, 4], [8, 47], [34, 4], [37], [26], [48, 47], [41, 26], [48, 4], [45, 7, 2, 17]]\n"
          ],
          "name": "stdout"
        }
      ]
    },
    {
      "cell_type": "markdown",
      "metadata": {
        "id": "XPbuEu2KCyx3",
        "colab_type": "text"
      },
      "source": [
        "### Padding documents to a desired max_length"
      ]
    },
    {
      "cell_type": "code",
      "metadata": {
        "id": "TjmfmdRtC8fE",
        "colab_type": "code",
        "outputId": "5e5d70af-63ea-4322-8384-e84e9c4d87ba",
        "colab": {
          "base_uri": "https://localhost:8080/",
          "height": 187
        }
      },
      "source": [
        "max_length = 4\n",
        "padded_docs = None # Hint: Use padding helper function from the above import\n",
        "print(padded_docs)"
      ],
      "execution_count": 0,
      "outputs": [
        {
          "output_type": "stream",
          "text": [
            "[[27  2  0  0]\n",
            " [26  4  0  0]\n",
            " [ 8 47  0  0]\n",
            " [34  4  0  0]\n",
            " [37  0  0  0]\n",
            " [26  0  0  0]\n",
            " [48 47  0  0]\n",
            " [41 26  0  0]\n",
            " [48  4  0  0]\n",
            " [45  7  2 17]]\n"
          ],
          "name": "stdout"
        }
      ]
    },
    {
      "cell_type": "markdown",
      "metadata": {
        "id": "NGkgwJr2DQSh",
        "colab_type": "text"
      },
      "source": [
        "### Define the model"
      ]
    },
    {
      "cell_type": "code",
      "metadata": {
        "id": "pukPZKfxDUR_",
        "colab_type": "code",
        "colab": {}
      },
      "source": [
        "model = None # Hint: Add Sequential\n",
        "model.add(None) # Add Embedding layer\n",
        "model.add(None) # Flatten the layer\n",
        "model.add(None) # Add Dense layer"
      ],
      "execution_count": 0,
      "outputs": []
    },
    {
      "cell_type": "markdown",
      "metadata": {
        "id": "0owgnND9DduT",
        "colab_type": "text"
      },
      "source": [
        "### Compiling the model"
      ]
    },
    {
      "cell_type": "code",
      "metadata": {
        "id": "wGGEBN7UDhCM",
        "colab_type": "code",
        "colab": {}
      },
      "source": [
        "# Define Adam optimizer, loss function for two-class classification, accuracy metric\n",
        "model.compile(None)\n",
        "# Experiment with multiple parameters of these values"
      ],
      "execution_count": 0,
      "outputs": []
    },
    {
      "cell_type": "markdown",
      "metadata": {
        "id": "hg94_gK1DnL8",
        "colab_type": "text"
      },
      "source": [
        "### Summarize the model"
      ]
    },
    {
      "cell_type": "code",
      "metadata": {
        "id": "nZh9jScxDrm6",
        "colab_type": "code",
        "outputId": "081a7dbe-e3c0-4fff-c935-f763cbb7f0ec",
        "colab": {
          "base_uri": "https://localhost:8080/",
          "height": 272
        }
      },
      "source": [
        "print(model.summary())"
      ],
      "execution_count": 0,
      "outputs": [
        {
          "output_type": "stream",
          "text": [
            "Model: \"sequential_3\"\n",
            "_________________________________________________________________\n",
            "Layer (type)                 Output Shape              Param #   \n",
            "=================================================================\n",
            "embedding_3 (Embedding)      (None, 4, 8)              400       \n",
            "_________________________________________________________________\n",
            "flatten_3 (Flatten)          (None, 32)                0         \n",
            "_________________________________________________________________\n",
            "dense_3 (Dense)              (None, 1)                 33        \n",
            "=================================================================\n",
            "Total params: 433\n",
            "Trainable params: 433\n",
            "Non-trainable params: 0\n",
            "_________________________________________________________________\n",
            "None\n"
          ],
          "name": "stdout"
        }
      ]
    },
    {
      "cell_type": "markdown",
      "metadata": {
        "id": "mz6KK_9tDxrA",
        "colab_type": "text"
      },
      "source": [
        "### Build the model"
      ]
    },
    {
      "cell_type": "code",
      "metadata": {
        "id": "dfd1v7LAD_dM",
        "colab_type": "code",
        "outputId": "7a37639e-aa92-4be2-9f55-10ef0a99d301",
        "colab": {
          "base_uri": "https://localhost:8080/",
          "height": 34
        }
      },
      "source": [
        "# Fit the model with number of epochs = 50 and pass input and output\n",
        "model.fit(None)"
      ],
      "execution_count": 0,
      "outputs": [
        {
          "output_type": "execute_result",
          "data": {
            "text/plain": [
              "<keras.callbacks.History at 0x7ff7ecafdcc0>"
            ]
          },
          "metadata": {
            "tags": []
          },
          "execution_count": 27
        }
      ]
    },
    {
      "cell_type": "markdown",
      "metadata": {
        "id": "p45EWai3EBe0",
        "colab_type": "text"
      },
      "source": [
        "### Evaluating the model"
      ]
    },
    {
      "cell_type": "code",
      "metadata": {
        "id": "4OwzvLq9EHJQ",
        "colab_type": "code",
        "colab": {}
      },
      "source": [
        "loss, accuracy = model.evaluate(None)\n",
        "print('Accuracy: %f' % (accuracy*100))"
      ],
      "execution_count": 0,
      "outputs": []
    },
    {
      "cell_type": "code",
      "metadata": {
        "id": "26WHs0PiOLgf",
        "colab_type": "code",
        "colab": {}
      },
      "source": [
        ""
      ],
      "execution_count": 0,
      "outputs": []
    }
  ]
}