{
  "nbformat": 4,
  "nbformat_minor": 0,
  "metadata": {
    "colab": {
      "name": "Word2Vec-Tensorflow.ipynb",
      "provenance": [],
      "collapsed_sections": []
    },
    "kernelspec": {
      "name": "python3",
      "display_name": "Python 3"
    }
  },
  "cells": [
    {
      "cell_type": "code",
      "metadata": {
        "id": "t2zsgE0itT6v",
        "colab_type": "code",
        "colab": {}
      },
      "source": [
        "import numpy as np\n",
        "import tensorflow as tf\n",
        "corpus_raw = 'He is the king . The king is royal . She is the royal  queen '\n",
        "# convert to lower case\n",
        "corpus_raw = corpus_raw.lower()"
      ],
      "execution_count": 0,
      "outputs": []
    },
    {
      "cell_type": "markdown",
      "metadata": {
        "id": "VN_PpMGOuScS",
        "colab_type": "text"
      },
      "source": [
        "\n",
        "\n",
        "[Quick Brown Fox Example](https://drive.google.com/open?id=1n8ElxWjh1a9kdPTCBbCmvP7MKj5vtD4U)"
      ]
    },
    {
      "cell_type": "code",
      "metadata": {
        "id": "TOOLwDNJvMAp",
        "colab_type": "code",
        "colab": {}
      },
      "source": [
        "words = []\n",
        "for word in corpus_raw.split():\n",
        "    if word != '.': # because we don't want to treat . as a word\n",
        "        words.append(word)\n",
        "words = set(words) # so that all duplicate words are removed\n",
        "word2int = {}\n",
        "int2word = {}\n",
        "vocab_size = len(words) # gives the total number of unique words\n",
        "for i,word in enumerate(words):\n",
        "    word2int[word] = i\n",
        "    int2word[i] = word"
      ],
      "execution_count": 0,
      "outputs": []
    },
    {
      "cell_type": "code",
      "metadata": {
        "id": "eV31BodnvzmB",
        "colab_type": "code",
        "outputId": "11f4a6d9-abad-4d2a-e1fe-f45deb296ef1",
        "colab": {
          "base_uri": "https://localhost:8080/",
          "height": 34
        }
      },
      "source": [
        "print(word2int['queen'])"
      ],
      "execution_count": 3,
      "outputs": [
        {
          "output_type": "stream",
          "text": [
            "3\n"
          ],
          "name": "stdout"
        }
      ]
    },
    {
      "cell_type": "code",
      "metadata": {
        "id": "z4XswQDrv2Q8",
        "colab_type": "code",
        "outputId": "7a1e0b94-b6ee-415e-b41f-70e6bd16bf46",
        "colab": {
          "base_uri": "https://localhost:8080/",
          "height": 34
        }
      },
      "source": [
        "print(int2word[3])"
      ],
      "execution_count": 7,
      "outputs": [
        {
          "output_type": "stream",
          "text": [
            "queen\n"
          ],
          "name": "stdout"
        }
      ]
    },
    {
      "cell_type": "code",
      "metadata": {
        "id": "L-7dSt4Kv38y",
        "colab_type": "code",
        "outputId": "babddc6c-cd86-4358-c4e7-ef683c852e94",
        "colab": {
          "base_uri": "https://localhost:8080/",
          "height": 34
        }
      },
      "source": [
        "print(word2int['king'])"
      ],
      "execution_count": 8,
      "outputs": [
        {
          "output_type": "stream",
          "text": [
            "0\n"
          ],
          "name": "stdout"
        }
      ]
    },
    {
      "cell_type": "code",
      "metadata": {
        "id": "jRGOt530v8Pn",
        "colab_type": "code",
        "outputId": "f1534e7a-ae59-4763-8a79-7cb25addb46a",
        "colab": {
          "base_uri": "https://localhost:8080/",
          "height": 34
        }
      },
      "source": [
        "print(int2word[0])"
      ],
      "execution_count": 9,
      "outputs": [
        {
          "output_type": "stream",
          "text": [
            "king\n"
          ],
          "name": "stdout"
        }
      ]
    },
    {
      "cell_type": "markdown",
      "metadata": {
        "id": "v_xKesDDG0bz",
        "colab_type": "text"
      },
      "source": [
        "### Creation of sentences"
      ]
    },
    {
      "cell_type": "code",
      "metadata": {
        "id": "PuRxukAnv-Va",
        "colab_type": "code",
        "colab": {}
      },
      "source": [
        "# raw sentences is a list of sentences.\n",
        "raw_sentences = corpus_raw.split('.')\n",
        "sentences = []\n",
        "for sentence in raw_sentences:\n",
        "    sentences.append(sentence.split())"
      ],
      "execution_count": 0,
      "outputs": []
    },
    {
      "cell_type": "code",
      "metadata": {
        "id": "ykFtbNPuwAsl",
        "colab_type": "code",
        "outputId": "1534a001-11b1-48fe-bb2c-028c715971c4",
        "colab": {
          "base_uri": "https://localhost:8080/",
          "height": 34
        }
      },
      "source": [
        "print(sentences)"
      ],
      "execution_count": 11,
      "outputs": [
        {
          "output_type": "stream",
          "text": [
            "[['he', 'is', 'the', 'king'], ['the', 'king', 'is', 'royal'], ['she', 'is', 'the', 'royal', 'queen']]\n"
          ],
          "name": "stdout"
        }
      ]
    },
    {
      "cell_type": "markdown",
      "metadata": {
        "id": "MAwveRYSG66C",
        "colab_type": "text"
      },
      "source": [
        "### Creation of windows for word pairs"
      ]
    },
    {
      "cell_type": "code",
      "metadata": {
        "id": "rQ-Q73kewCgT",
        "colab_type": "code",
        "colab": {}
      },
      "source": [
        "data = []\n",
        "WINDOW_SIZE = 2\n",
        "for sentence in sentences:\n",
        "    for word_index, word in enumerate(sentence):\n",
        "        for nb_word in sentence[max(word_index - WINDOW_SIZE, 0) : min(word_index + WINDOW_SIZE, len(sentence)) + 1] : \n",
        "            if nb_word != word:\n",
        "                data.append([word, nb_word])"
      ],
      "execution_count": 0,
      "outputs": []
    },
    {
      "cell_type": "code",
      "metadata": {
        "id": "HpAib9zvwGhv",
        "colab_type": "code",
        "outputId": "0fc2a268-aa14-4738-f346-f503ec257c1a",
        "colab": {
          "base_uri": "https://localhost:8080/",
          "height": 54
        }
      },
      "source": [
        "print(data)"
      ],
      "execution_count": 13,
      "outputs": [
        {
          "output_type": "stream",
          "text": [
            "[['he', 'is'], ['he', 'the'], ['is', 'he'], ['is', 'the'], ['is', 'king'], ['the', 'he'], ['the', 'is'], ['the', 'king'], ['king', 'is'], ['king', 'the'], ['the', 'king'], ['the', 'is'], ['king', 'the'], ['king', 'is'], ['king', 'royal'], ['is', 'the'], ['is', 'king'], ['is', 'royal'], ['royal', 'king'], ['royal', 'is'], ['she', 'is'], ['she', 'the'], ['is', 'she'], ['is', 'the'], ['is', 'royal'], ['the', 'she'], ['the', 'is'], ['the', 'royal'], ['the', 'queen'], ['royal', 'is'], ['royal', 'the'], ['royal', 'queen'], ['queen', 'the'], ['queen', 'royal']]\n"
          ],
          "name": "stdout"
        }
      ]
    },
    {
      "cell_type": "markdown",
      "metadata": {
        "id": "KwVhzptawNkQ",
        "colab_type": "text"
      },
      "source": [
        "### One-hot vector encoding\n",
        "say we have a vocabulary of 3 words : pen, pineapple, apple\n",
        "\n",
        "- word2int['pen'] -> 0 -> [1 0 0]\n",
        "- word2int['pineapple'] -> 1 -> [0 1 0]\n",
        "- word2int['apple'] -> 2 -> [0 0 1]"
      ]
    },
    {
      "cell_type": "code",
      "metadata": {
        "id": "N9h9GjwtwV9z",
        "colab_type": "code",
        "colab": {}
      },
      "source": [
        "# function to convert numbers to one hot vectors\n",
        "def to_one_hot(data_point_index, vocab_size):\n",
        "    temp = np.zeros(vocab_size)\n",
        "    temp[data_point_index] = 1\n",
        "    return temp\n",
        "x_train = [] # input word\n",
        "y_train = [] # output word\n",
        "for data_word in data:\n",
        "    x_train.append(to_one_hot(word2int[ data_word[0] ], vocab_size))\n",
        "    y_train.append(to_one_hot(word2int[ data_word[1] ], vocab_size))\n",
        "# convert them to numpy arrays\n",
        "x_train = np.asarray(x_train)\n",
        "y_train = np.asarray(y_train)"
      ],
      "execution_count": 0,
      "outputs": []
    },
    {
      "cell_type": "code",
      "metadata": {
        "id": "eILuk7rlwZBf",
        "colab_type": "code",
        "outputId": "04c69dc3-2180-4717-b33a-9192845abde6",
        "colab": {
          "base_uri": "https://localhost:8080/",
          "height": 595
        }
      },
      "source": [
        "print(x_train)"
      ],
      "execution_count": 15,
      "outputs": [
        {
          "output_type": "stream",
          "text": [
            "[[0. 0. 1. 0. 0. 0. 0.]\n",
            " [0. 0. 1. 0. 0. 0. 0.]\n",
            " [0. 0. 0. 0. 1. 0. 0.]\n",
            " [0. 0. 0. 0. 1. 0. 0.]\n",
            " [0. 0. 0. 0. 1. 0. 0.]\n",
            " [0. 0. 0. 0. 0. 1. 0.]\n",
            " [0. 0. 0. 0. 0. 1. 0.]\n",
            " [0. 0. 0. 0. 0. 1. 0.]\n",
            " [1. 0. 0. 0. 0. 0. 0.]\n",
            " [1. 0. 0. 0. 0. 0. 0.]\n",
            " [0. 0. 0. 0. 0. 1. 0.]\n",
            " [0. 0. 0. 0. 0. 1. 0.]\n",
            " [1. 0. 0. 0. 0. 0. 0.]\n",
            " [1. 0. 0. 0. 0. 0. 0.]\n",
            " [1. 0. 0. 0. 0. 0. 0.]\n",
            " [0. 0. 0. 0. 1. 0. 0.]\n",
            " [0. 0. 0. 0. 1. 0. 0.]\n",
            " [0. 0. 0. 0. 1. 0. 0.]\n",
            " [0. 1. 0. 0. 0. 0. 0.]\n",
            " [0. 1. 0. 0. 0. 0. 0.]\n",
            " [0. 0. 0. 0. 0. 0. 1.]\n",
            " [0. 0. 0. 0. 0. 0. 1.]\n",
            " [0. 0. 0. 0. 1. 0. 0.]\n",
            " [0. 0. 0. 0. 1. 0. 0.]\n",
            " [0. 0. 0. 0. 1. 0. 0.]\n",
            " [0. 0. 0. 0. 0. 1. 0.]\n",
            " [0. 0. 0. 0. 0. 1. 0.]\n",
            " [0. 0. 0. 0. 0. 1. 0.]\n",
            " [0. 0. 0. 0. 0. 1. 0.]\n",
            " [0. 1. 0. 0. 0. 0. 0.]\n",
            " [0. 1. 0. 0. 0. 0. 0.]\n",
            " [0. 1. 0. 0. 0. 0. 0.]\n",
            " [0. 0. 0. 1. 0. 0. 0.]\n",
            " [0. 0. 0. 1. 0. 0. 0.]]\n"
          ],
          "name": "stdout"
        }
      ]
    },
    {
      "cell_type": "code",
      "metadata": {
        "id": "hSQxWmzyFSjY",
        "colab_type": "code",
        "outputId": "a3706e19-3876-4368-be9a-d9672e5b84be",
        "colab": {
          "base_uri": "https://localhost:8080/",
          "height": 34
        }
      },
      "source": [
        "print(x_train.shape, y_train.shape)"
      ],
      "execution_count": 16,
      "outputs": [
        {
          "output_type": "stream",
          "text": [
            "(34, 7) (34, 7)\n"
          ],
          "name": "stdout"
        }
      ]
    },
    {
      "cell_type": "markdown",
      "metadata": {
        "id": "RQDUlqj6FX0f",
        "colab_type": "text"
      },
      "source": [
        "### Creation of Tensorflow model\n",
        "#### Create Placeholders"
      ]
    },
    {
      "cell_type": "code",
      "metadata": {
        "id": "brDMNKnSFZ2v",
        "colab_type": "code",
        "colab": {}
      },
      "source": [
        "# making placeholders for x_train and y_train\n",
        "x = tf.placeholder(tf.float32, shape=(None, vocab_size))\n",
        "y_label = tf.placeholder(tf.float32, shape=(None, vocab_size))"
      ],
      "execution_count": 0,
      "outputs": []
    },
    {
      "cell_type": "markdown",
      "metadata": {
        "id": "J_Jfu5juLRVq",
        "colab_type": "text"
      },
      "source": [
        "[Architecture](https://drive.google.com/open?id=1svyZ4AxL5YX4j1Wl_QGYVcCC9iiP6iXR)"
      ]
    },
    {
      "cell_type": "code",
      "metadata": {
        "id": "v_Non357FoCD",
        "colab_type": "code",
        "colab": {}
      },
      "source": [
        "EMBEDDING_DIM = 5 # you can choose your own number\n",
        "W1 = tf.Variable(tf.random_normal([vocab_size, EMBEDDING_DIM]))\n",
        "b1 = tf.Variable(tf.random_normal([EMBEDDING_DIM])) #bias\n",
        "hidden_representation = tf.add(tf.matmul(x,W1), b1)"
      ],
      "execution_count": 0,
      "outputs": []
    },
    {
      "cell_type": "markdown",
      "metadata": {
        "id": "wqqxfksALbAL",
        "colab_type": "text"
      },
      "source": [
        "[Predictions](https://drive.google.com/open?id=122xvSIqD1G5tkAdO7BmT4gLAtKL990A4)"
      ]
    },
    {
      "cell_type": "code",
      "metadata": {
        "id": "fiEaUAm4FwEO",
        "colab_type": "code",
        "colab": {}
      },
      "source": [
        "W2 = tf.Variable(tf.random_normal([EMBEDDING_DIM, vocab_size]))\n",
        "b2 = tf.Variable(tf.random_normal([vocab_size]))\n",
        "prediction = tf.nn.softmax(tf.add( tf.matmul(hidden_representation, W2), b2))"
      ],
      "execution_count": 0,
      "outputs": []
    },
    {
      "cell_type": "markdown",
      "metadata": {
        "id": "0CmNWnahL-Sv",
        "colab_type": "text"
      },
      "source": [
        "[Summary of embeddings](https://drive.google.com/open?id=1vlUxYlCAp_U0QmWgYizn8SRgxEpPsDDm)"
      ]
    },
    {
      "cell_type": "code",
      "metadata": {
        "id": "C5y95RZhFwmE",
        "colab_type": "code",
        "colab": {}
      },
      "source": [
        "sess = tf.Session()\n",
        "init = tf.global_variables_initializer()\n",
        "sess.run(init) #make sure you do this!\n",
        "# define the loss function:\n",
        "cross_entropy_loss = tf.reduce_mean(-tf.reduce_sum(y_label * tf.log(prediction), reduction_indices=[1]))\n",
        "# define the training step:\n",
        "train_step = tf.train.GradientDescentOptimizer(0.1).minimize(cross_entropy_loss)\n",
        "n_iters = 10000\n",
        "# train for n_iter iterations\n",
        "for _ in range(n_iters):\n",
        "    sess.run(train_step, feed_dict={x: x_train, y_label: y_train})\n",
        "    print('loss is : ', sess.run(cross_entropy_loss, feed_dict={x: x_train, y_label: y_train}))"
      ],
      "execution_count": 0,
      "outputs": []
    },
    {
      "cell_type": "code",
      "metadata": {
        "id": "YvAnCsXuF4Za",
        "colab_type": "code",
        "outputId": "17ce9d7e-2794-453b-acfa-5b346c174723",
        "colab": {
          "base_uri": "https://localhost:8080/",
          "height": 187
        }
      },
      "source": [
        "print(sess.run(W1))\n",
        "print('----------')\n",
        "print(sess.run(b1))\n",
        "print('----------')"
      ],
      "execution_count": 21,
      "outputs": [
        {
          "output_type": "stream",
          "text": [
            "[[ 0.11995198  0.05235916 -0.00252951  1.7535975   0.4686913 ]\n",
            " [-1.4756694   0.17503612 -1.76187    -0.4813566  -0.6249435 ]\n",
            " [-1.7231231  -0.30293754  0.59900236  0.39750138  0.01570713]\n",
            " [ 0.92398554 -2.0858347   0.5572174   0.27773723  0.08335201]\n",
            " [ 1.4416847   0.5458765   0.61699885 -1.7098467  -1.4785556 ]\n",
            " [ 0.8200696   0.721835   -0.54296786 -1.1632943   2.1976342 ]\n",
            " [-1.4835261   0.6136435   0.70306635  1.4862514  -0.3040603 ]]\n",
            "----------\n",
            "[-1.1953249  -1.0833192   0.81202847  0.24949035 -0.01329913]\n",
            "----------\n"
          ],
          "name": "stdout"
        }
      ]
    },
    {
      "cell_type": "code",
      "metadata": {
        "id": "HroLHZwYF9kJ",
        "colab_type": "code",
        "outputId": "1510c4bc-78c7-4d98-ee48-7cb7e9afb161",
        "colab": {
          "base_uri": "https://localhost:8080/",
          "height": 255
        }
      },
      "source": [
        "vectors = sess.run(W1 + b1)\n",
        "\n",
        "# if you work it out, you will see that it has the same effect as running the node hidden representation\n",
        "print(vectors)"
      ],
      "execution_count": 22,
      "outputs": [
        {
          "output_type": "stream",
          "text": [
            "[[-1.0753729e+00 -1.0309601e+00  8.0949897e-01  2.0030878e+00\n",
            "   4.5539215e-01]\n",
            " [-2.6709943e+00 -9.0828305e-01 -9.4984156e-01 -2.3186624e-01\n",
            "  -6.3824260e-01]\n",
            " [-2.9184480e+00 -1.3862567e+00  1.4110308e+00  6.4699173e-01\n",
            "   2.4079951e-03]\n",
            " [-2.7133936e-01 -3.1691539e+00  1.3692459e+00  5.2722758e-01\n",
            "   7.0052877e-02]\n",
            " [ 2.4635983e-01 -5.3744268e-01  1.4290273e+00 -1.4603564e+00\n",
            "  -1.4918547e+00]\n",
            " [-3.7525529e-01 -3.6148417e-01  2.6906061e-01 -9.1380394e-01\n",
            "   2.1843350e+00]\n",
            " [-2.6788511e+00 -4.6967566e-01  1.5150948e+00  1.7357417e+00\n",
            "  -3.1735945e-01]]\n"
          ],
          "name": "stdout"
        }
      ]
    },
    {
      "cell_type": "code",
      "metadata": {
        "id": "Qiggqq_HGJYE",
        "colab_type": "code",
        "outputId": "39c8c50f-2863-4b47-a2e8-89fce31ec126",
        "colab": {
          "base_uri": "https://localhost:8080/",
          "height": 34
        }
      },
      "source": [
        "print(vectors[ word2int['queen'] ])"
      ],
      "execution_count": 23,
      "outputs": [
        {
          "output_type": "stream",
          "text": [
            "[-0.27133936 -3.169154    1.3692459   0.5272276   0.07005288]\n"
          ],
          "name": "stdout"
        }
      ]
    },
    {
      "cell_type": "code",
      "metadata": {
        "id": "ngxIiyHVGS4y",
        "colab_type": "code",
        "colab": {}
      },
      "source": [
        "def euclidean_dist(vec1, vec2):\n",
        "    return np.sqrt(np.sum((vec1-vec2)**2))\n",
        "def find_closest(word_index, vectors):\n",
        "    min_dist = 10000 # to act like positive infinity\n",
        "    min_index = -1\n",
        "    query_vector = vectors[word_index]\n",
        "    for index, vector in enumerate(vectors):\n",
        "        if euclidean_dist(vector, query_vector) < min_dist and not np.array_equal(vector, query_vector):\n",
        "            min_dist = euclidean_dist(vector, query_vector)\n",
        "            min_index = index\n",
        "    return min_index"
      ],
      "execution_count": 0,
      "outputs": []
    },
    {
      "cell_type": "code",
      "metadata": {
        "id": "FxP3cJgUGVpG",
        "colab_type": "code",
        "outputId": "2d93d97d-938a-43cb-ee28-2d3f1a6a174c",
        "colab": {
          "base_uri": "https://localhost:8080/",
          "height": 68
        }
      },
      "source": [
        "print(int2word[find_closest(word2int['queen'], vectors)])\n",
        "print(int2word[find_closest(word2int['he'], vectors)])\n",
        "print(int2word[find_closest(word2int['she'], vectors)])"
      ],
      "execution_count": 29,
      "outputs": [
        {
          "output_type": "stream",
          "text": [
            "king\n",
            "she\n",
            "he\n"
          ],
          "name": "stdout"
        }
      ]
    },
    {
      "cell_type": "code",
      "metadata": {
        "id": "d2TgIk5HGXkJ",
        "colab_type": "code",
        "colab": {}
      },
      "source": [
        "from sklearn.manifold import TSNE\n",
        "model = TSNE(n_components=2, random_state=0)\n",
        "np.set_printoptions(suppress=True)\n",
        "vectors = model.fit_transform(vectors)"
      ],
      "execution_count": 0,
      "outputs": []
    },
    {
      "cell_type": "code",
      "metadata": {
        "id": "nGELC7k-Gg31",
        "colab_type": "code",
        "colab": {}
      },
      "source": [
        "from sklearn import preprocessing\n",
        "normalizer = preprocessing.Normalizer()\n",
        "vectors =  normalizer.fit_transform(vectors, 'l2')"
      ],
      "execution_count": 0,
      "outputs": []
    },
    {
      "cell_type": "code",
      "metadata": {
        "id": "cw5FILeAGi6D",
        "colab_type": "code",
        "outputId": "ff3e348b-8f38-44cc-9cfb-8be72132e1f0",
        "colab": {
          "base_uri": "https://localhost:8080/",
          "height": 590
        }
      },
      "source": [
        "import matplotlib.pyplot as plt\n",
        "fig, ax = plt.subplots()\n",
        "for word in words:\n",
        "    print(word, vectors[word2int[word]][1])\n",
        "    ax.annotate(word, (vectors[word2int[word]][0],vectors[word2int[word]][1] ))\n",
        "plt.show()"
      ],
      "execution_count": 32,
      "outputs": [
        {
          "output_type": "stream",
          "text": [
            "king -0.96309465\n",
            "royal -0.86308813\n",
            "he -0.4225477\n",
            "queen -0.9945276\n",
            "is 0.83077204\n",
            "the 0.6369875\n",
            "she -0.17015862\n"
          ],
          "name": "stdout"
        },
        {
          "output_type": "display_data",
          "data": {
            "image/png": "[encoded data removed]",
            "text/plain": [
              "<Figure size 432x288 with 1 Axes>"
            ]
          },
          "metadata": {
            "tags": []
          }
        }
      ]
    },
    {
      "cell_type": "code",
      "metadata": {
        "id": "e7BwPZQbGkoT",
        "colab_type": "code",
        "colab": {}
      },
      "source": [
        ""
      ],
      "execution_count": 0,
      "outputs": []
    }
  ]
}